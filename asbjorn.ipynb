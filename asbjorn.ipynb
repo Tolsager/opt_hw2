{
 "cells": [
  {
   "cell_type": "code",
   "execution_count": 1,
   "metadata": {},
   "outputs": [],
   "source": [
    "import numpy as np\n",
    "import sympy as sp\n",
    "import matplotlib.pyplot as plt"
   ]
  },
  {
   "cell_type": "code",
   "execution_count": 28,
   "metadata": {},
   "outputs": [],
   "source": [
    "def Newtonsys(F, X0, symbs, kmax, calc_df = True, dF = None):\n",
    "    # F = Sympy matrix (as a vector) containing the equations\n",
    "    # symbs = list or tuple of symbols according to X0 ...\n",
    "    # X0 = vector with initial conditions\n",
    "    # kmax = Int of maximum iterations\n",
    "    if calc_df == True and dF is not None:\n",
    "        print(\"If dF is precalculated, don't have one..\")\n",
    "        return None\n",
    "    elif calc_df:\n",
    "        dF = F.jacobian(symbs)\n",
    "\n",
    "    X0 = np.array(X0)\n",
    "    Xiters = np.zeros((len(F), kmax))\n",
    "\n",
    "    inits = list(zip(symbs, X0))\n",
    "\n",
    "    for k in range(0, kmax):\n",
    "        inits = list(zip(symbs, X0))\n",
    "        if dF.subs(inits).det() == 0:\n",
    "            print(\"Jacobian is singular at: k =\", k, \" - Aborting\")\n",
    "            return None\n",
    "        \n",
    "        X0 = X0 - np.array(dF.inv().subs(inits)*F.subs(inits)).flatten()\n",
    "        Xiters[:, k] = X0\n",
    "        # This is probably inefficient but zip is annoying with numpy arrays\n",
    "        \n",
    "\n",
    "        if F.subs(inits).norm() < 1e-10:\n",
    "            print(\"Converged at k =\", k)\n",
    "            return Xiters[:, 0:k+1]\n",
    "    return Xiters\n"
   ]
  },
  {
   "cell_type": "code",
   "execution_count": 29,
   "metadata": {},
   "outputs": [
    {
     "name": "stdout",
     "output_type": "stream",
     "text": [
      "Converged at k = 19\n"
     ]
    }
   ],
   "source": [
    "x1, x2 = sp.symbols('x1 x2')\n",
    "rx = sp.Matrix([x1, 10*x1/(x1 + 0.1) + 2*x2**2])\n",
    "rx_func = sp.lambdify((x1, x2), rx, 'numpy')\n",
    "iters = Newtonsys(rx, [3,1], (x1, x2), 100)"
   ]
  },
  {
   "cell_type": "code",
   "execution_count": 12,
   "metadata": {},
   "outputs": [
    {
     "data": {
      "image/png": "[encoded data removed]",
      "text/plain": [
       "<Figure size 1000x500 with 2 Axes>"
      ]
     },
     "metadata": {},
     "output_type": "display_data"
    }
   ],
   "source": [
    "# Plot the iterations according to the optimal [0,0]\n",
    "\n",
    "errors = [np.linalg.norm(iters[:,i]) for i in range(iters.shape[1])]\n",
    "rxk = [1/2*(np.linalg.norm(rx_func(iters[0,i], iters[1,i]))**2) for i in range(iters.shape[1])]\n",
    "\n",
    "plt.figure(figsize=(10, 5))\n",
    "plt.subplot(121)\n",
    "plt.plot(range(iters.shape[1]), errors)\n",
    "plt.xlabel(\"Iterations\")\n",
    "plt.ylabel(\"Error\")\n",
    "plt.title(\"Error\")\n",
    "plt.subplot(122)\n",
    "plt.plot(range(iters.shape[1]), rxk)\n",
    "plt.xlabel(\"Iterations\")\n",
    "plt.ylabel(\"$\\\\frac{1}{2} ||r(x_k)||^2$\")\n",
    "plt.title(\"$f(x_k)$\")\n",
    "plt.show()"
   ]
  },
  {
   "cell_type": "code",
   "execution_count": 13,
   "metadata": {},
   "outputs": [],
   "source": [
    "xk2 = [iters[1,i]/iters[1,i-1] for i in range(1, iters.shape[1])]"
   ]
  },
  {
   "cell_type": "code",
   "execution_count": 14,
   "metadata": {},
   "outputs": [
    {
     "name": "stdout",
     "output_type": "stream",
     "text": [
      "The solutions in each iteration can be seen: \n",
      "1: [ 0.         -1.84131113]\n",
      "2: [ 0.         -0.92065557]\n",
      "3: [ 0.         -0.46032778]\n",
      "4: [ 0.         -0.23016389]\n",
      "5: [ 0.         -0.11508195]\n",
      "6: [ 0.         -0.05754097]\n",
      "7: [ 0.         -0.02877049]\n",
      "8: [ 0.         -0.01438524]\n",
      "9: [ 0.         -0.00719262]\n",
      "10: [ 0.         -0.00359631]\n",
      "11: [ 0.         -0.00179816]\n",
      "12: [ 0.         -0.00089908]\n",
      "13: [ 0.         -0.00044954]\n",
      "14: [ 0.         -0.00022477]\n",
      "15: [ 0.         -0.00011238]\n",
      "16: [ 0.00000000e+00 -5.61923564e-05]\n",
      "17: [ 0.00000000e+00 -2.80961782e-05]\n",
      "18: [ 0.00000000e+00 -1.40480891e-05]\n",
      "19: [ 0.00000000e+00 -7.02404455e-06]\n",
      "\n",
      " The errors are as follows\n",
      "1: 1.841311134235172\n",
      "2: 0.9206555671175858\n",
      "3: 0.4603277835587929\n",
      "4: 0.23016389177939645\n",
      "5: 0.11508194588969822\n",
      "6: 0.05754097294484911\n",
      "7: 0.028770486472424556\n",
      "8: 0.014385243236212278\n",
      "9: 0.007192621618106139\n",
      "10: 0.0035963108090530695\n",
      "11: 0.0017981554045265347\n",
      "12: 0.0008990777022632674\n",
      "13: 0.0004495388511316337\n",
      "14: 0.00022476942556581684\n",
      "15: 0.00011238471278290842\n",
      "16: 5.619235639145421e-05\n",
      "17: 2.8096178195727105e-05\n",
      "18: 1.4048089097863553e-05\n",
      "19: 7.024044548931776e-06\n",
      "\n",
      " The ratio between x2k+1 and x2k is as follows\n",
      "1: 0.4999999999999999\n",
      "2: 0.5\n",
      "3: 0.5\n",
      "4: 0.5\n",
      "5: 0.5\n",
      "6: 0.5\n",
      "7: 0.5\n",
      "8: 0.5\n",
      "9: 0.5\n",
      "10: 0.5\n",
      "11: 0.5\n",
      "12: 0.5\n",
      "13: 0.5\n",
      "14: 0.5\n",
      "15: 0.5\n",
      "16: 0.5\n",
      "17: 0.5\n",
      "18: 0.5\n",
      "19: 0.5\n"
     ]
    }
   ],
   "source": [
    "print(\"The solutions in each iteration can be seen: \")\n",
    "for i in range(19):\n",
    "    print(f\"{i+1}: {iters[:,i]}\")\n",
    "# It seems to converge towards the actual solution\n",
    "\n",
    "errors = [np.max(np.array([0,0]) - np.array(iters[:,k]))\n",
    "          for k in range(19)]\n",
    "\n",
    "print(\"\\n The errors are as follows\")\n",
    "for i, error in enumerate(errors):\n",
    "    print(f\"{i+1}: {error}\")\n",
    "\n",
    "print(\"\\n The ratio between x2k+1 and x2k is as follows\")\n",
    "for i, x in enumerate(xk2):\n",
    "    print(f\"{i+1}: {x}\")"
   ]
  },
  {
   "cell_type": "code",
   "execution_count": null,
   "metadata": {},
   "outputs": [],
   "source": []
  }
 ],
 "metadata": {
  "kernelspec": {
   "display_name": "Python 3",
   "language": "python",
   "name": "python3"
  },
  "language_info": {
   "codemirror_mode": {
    "name": "ipython",
    "version": 3
   },
   "file_extension": ".py",
   "mimetype": "text/x-python",
   "name": "python",
   "nbconvert_exporter": "python",
   "pygments_lexer": "ipython3",
   "version": "3.10.0"
  }
 },
 "nbformat": 4,
 "nbformat_minor": 2
}
